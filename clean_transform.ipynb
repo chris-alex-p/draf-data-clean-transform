{
 "cells": [
  {
   "cell_type": "code",
   "execution_count": 1,
   "id": "145ecd06",
   "metadata": {},
   "outputs": [
    {
     "name": "stdout",
     "output_type": "stream",
     "text": [
      "[1] \"hello world\"\n"
     ]
    }
   ],
   "source": [
    "print(\"hello world\")"
   ]
  },
  {
   "cell_type": "code",
   "execution_count": 2,
   "id": "92800013",
   "metadata": {},
   "outputs": [
    {
     "data": {
      "text/html": [
       "'C:/Users/luise/Documents/GitHub/draf-data-clean-transform'"
      ],
      "text/latex": [
       "'C:/Users/luise/Documents/GitHub/draf-data-clean-transform'"
      ],
      "text/markdown": [
       "'C:/Users/luise/Documents/GitHub/draf-data-clean-transform'"
      ],
      "text/plain": [
       "[1] \"C:/Users/luise/Documents/GitHub/draf-data-clean-transform\""
      ]
     },
     "metadata": {},
     "output_type": "display_data"
    }
   ],
   "source": [
    "getwd()"
   ]
  },
  {
   "cell_type": "code",
   "execution_count": 26,
   "id": "d808ce87",
   "metadata": {},
   "outputs": [
    {
     "data": {
      "text/html": [
       "<table class=\"dataframe\">\n",
       "<caption>A data.frame: 6 × 21</caption>\n",
       "<thead>\n",
       "\t<tr><th></th><th scope=col>V1</th><th scope=col>V2</th><th scope=col>V3</th><th scope=col>V4</th><th scope=col>V5</th><th scope=col>V6</th><th scope=col>V7</th><th scope=col>V8</th><th scope=col>V9</th><th scope=col>V10</th><th scope=col>⋯</th><th scope=col>V12</th><th scope=col>V13</th><th scope=col>V14</th><th scope=col>V15</th><th scope=col>V16</th><th scope=col>V17</th><th scope=col>V18</th><th scope=col>V19</th><th scope=col>V20</th><th scope=col>V21</th></tr>\n",
       "\t<tr><th></th><th scope=col>&lt;chr&gt;</th><th scope=col>&lt;chr&gt;</th><th scope=col>&lt;chr&gt;</th><th scope=col>&lt;chr&gt;</th><th scope=col>&lt;chr&gt;</th><th scope=col>&lt;chr&gt;</th><th scope=col>&lt;chr&gt;</th><th scope=col>&lt;chr&gt;</th><th scope=col>&lt;chr&gt;</th><th scope=col>&lt;chr&gt;</th><th scope=col>⋯</th><th scope=col>&lt;chr&gt;</th><th scope=col>&lt;chr&gt;</th><th scope=col>&lt;chr&gt;</th><th scope=col>&lt;chr&gt;</th><th scope=col>&lt;chr&gt;</th><th scope=col>&lt;chr&gt;</th><th scope=col>&lt;chr&gt;</th><th scope=col>&lt;chr&gt;</th><th scope=col>&lt;chr&gt;</th><th scope=col>&lt;chr&gt;</th></tr>\n",
       "</thead>\n",
       "<tbody>\n",
       "\t<tr><th scope=row>1</th><td>4741</td><td>01-01-95, Wolvega</td><td>13:30</td><td>KW</td><td>Kwalificatieproef  </td><td></td><td></td><td></td><td>Drafsport - 2100 - Autostart</td><td>V</td><td>⋯</td><td>F. Gorter      </td><td>2100</td><td>4</td><td> </td><td></td><td>1.20,5</td><td></td><td></td><td>        </td><td>    </td></tr>\n",
       "\t<tr><th scope=row>2</th><td>4741</td><td>01-01-95, Wolvega</td><td>13:30</td><td>KW</td><td>Kwalificatieproef  </td><td></td><td></td><td></td><td>Drafsport - 2100 - Autostart</td><td>V</td><td>⋯</td><td>J.W.M. Engwerda</td><td>2100</td><td>2</td><td> </td><td></td><td>1.23,5</td><td></td><td></td><td>        </td><td>    </td></tr>\n",
       "\t<tr><th scope=row>3</th><td>4741</td><td>01-01-95, Wolvega</td><td>13:30</td><td>KW</td><td>Kwalificatieproef  </td><td></td><td></td><td></td><td>Drafsport - 2100 - Autostart</td><td>V</td><td>⋯</td><td>F.J. Wildhagen </td><td>2100</td><td>1</td><td> </td><td></td><td>1.24,1</td><td></td><td></td><td>        </td><td>    </td></tr>\n",
       "\t<tr><th scope=row>4</th><td>4741</td><td>01-01-95, Wolvega</td><td>14:00</td><td>1 </td><td>Gelukkig 1995-prijs</td><td></td><td></td><td></td><td>Drafsport - 2100 - Autostart</td><td>1</td><td>⋯</td><td>J.C. Bot       </td><td>2100</td><td> </td><td>4</td><td></td><td>1.21,2</td><td></td><td></td><td>€ 794,00</td><td>17,2</td></tr>\n",
       "\t<tr><th scope=row>5</th><td>4741</td><td>01-01-95, Wolvega</td><td>14:00</td><td>1 </td><td>Gelukkig 1995-prijs</td><td></td><td></td><td></td><td>Drafsport - 2100 - Autostart</td><td>2</td><td>⋯</td><td>R. Kromkamp    </td><td>2100</td><td> </td><td>6</td><td></td><td>1.21,3</td><td></td><td></td><td>€ 386,00</td><td>6,1 </td></tr>\n",
       "\t<tr><th scope=row>6</th><td>4741</td><td>01-01-95, Wolvega</td><td>14:00</td><td>1 </td><td>Gelukkig 1995-prijs</td><td></td><td></td><td></td><td>Drafsport - 2100 - Autostart</td><td>3</td><td>⋯</td><td>T. Jonkman     </td><td>2100</td><td> </td><td>7</td><td></td><td>1.21,3</td><td></td><td></td><td>€ 204,00</td><td>6,2 </td></tr>\n",
       "</tbody>\n",
       "</table>\n"
      ],
      "text/latex": [
       "A data.frame: 6 × 21\n",
       "\\begin{tabular}{r|lllllllllllllllllllll}\n",
       "  & V1 & V2 & V3 & V4 & V5 & V6 & V7 & V8 & V9 & V10 & ⋯ & V12 & V13 & V14 & V15 & V16 & V17 & V18 & V19 & V20 & V21\\\\\n",
       "  & <chr> & <chr> & <chr> & <chr> & <chr> & <chr> & <chr> & <chr> & <chr> & <chr> & ⋯ & <chr> & <chr> & <chr> & <chr> & <chr> & <chr> & <chr> & <chr> & <chr> & <chr>\\\\\n",
       "\\hline\n",
       "\t1 & 4741 & 01-01-95, Wolvega & 13:30 & KW & Kwalificatieproef   &  &  &  & Drafsport - 2100 - Autostart & V & ⋯ & F. Gorter       & 2100 & 4 &   &  & 1.20,5 &  &  &          &     \\\\\n",
       "\t2 & 4741 & 01-01-95, Wolvega & 13:30 & KW & Kwalificatieproef   &  &  &  & Drafsport - 2100 - Autostart & V & ⋯ & J.W.M. Engwerda & 2100 & 2 &   &  & 1.23,5 &  &  &          &     \\\\\n",
       "\t3 & 4741 & 01-01-95, Wolvega & 13:30 & KW & Kwalificatieproef   &  &  &  & Drafsport - 2100 - Autostart & V & ⋯ & F.J. Wildhagen  & 2100 & 1 &   &  & 1.24,1 &  &  &          &     \\\\\n",
       "\t4 & 4741 & 01-01-95, Wolvega & 14:00 & 1  & Gelukkig 1995-prijs &  &  &  & Drafsport - 2100 - Autostart & 1 & ⋯ & J.C. Bot        & 2100 &   & 4 &  & 1.21,2 &  &  & € 794,00 & 17,2\\\\\n",
       "\t5 & 4741 & 01-01-95, Wolvega & 14:00 & 1  & Gelukkig 1995-prijs &  &  &  & Drafsport - 2100 - Autostart & 2 & ⋯ & R. Kromkamp     & 2100 &   & 6 &  & 1.21,3 &  &  & € 386,00 & 6,1 \\\\\n",
       "\t6 & 4741 & 01-01-95, Wolvega & 14:00 & 1  & Gelukkig 1995-prijs &  &  &  & Drafsport - 2100 - Autostart & 3 & ⋯ & T. Jonkman      & 2100 &   & 7 &  & 1.21,3 &  &  & € 204,00 & 6,2 \\\\\n",
       "\\end{tabular}\n"
      ],
      "text/markdown": [
       "\n",
       "A data.frame: 6 × 21\n",
       "\n",
       "| <!--/--> | V1 &lt;chr&gt; | V2 &lt;chr&gt; | V3 &lt;chr&gt; | V4 &lt;chr&gt; | V5 &lt;chr&gt; | V6 &lt;chr&gt; | V7 &lt;chr&gt; | V8 &lt;chr&gt; | V9 &lt;chr&gt; | V10 &lt;chr&gt; | ⋯ ⋯ | V12 &lt;chr&gt; | V13 &lt;chr&gt; | V14 &lt;chr&gt; | V15 &lt;chr&gt; | V16 &lt;chr&gt; | V17 &lt;chr&gt; | V18 &lt;chr&gt; | V19 &lt;chr&gt; | V20 &lt;chr&gt; | V21 &lt;chr&gt; |\n",
       "|---|---|---|---|---|---|---|---|---|---|---|---|---|---|---|---|---|---|---|---|---|---|\n",
       "| 1 | 4741 | 01-01-95, Wolvega | 13:30 | KW | Kwalificatieproef   | <!----> | <!----> | <!----> | Drafsport - 2100 - Autostart | V | ⋯ | F. Gorter       | 2100 | 4 | <!----> | <!----> | 1.20,5 | <!----> | <!----> | <!----> | <!----> |\n",
       "| 2 | 4741 | 01-01-95, Wolvega | 13:30 | KW | Kwalificatieproef   | <!----> | <!----> | <!----> | Drafsport - 2100 - Autostart | V | ⋯ | J.W.M. Engwerda | 2100 | 2 | <!----> | <!----> | 1.23,5 | <!----> | <!----> | <!----> | <!----> |\n",
       "| 3 | 4741 | 01-01-95, Wolvega | 13:30 | KW | Kwalificatieproef   | <!----> | <!----> | <!----> | Drafsport - 2100 - Autostart | V | ⋯ | F.J. Wildhagen  | 2100 | 1 | <!----> | <!----> | 1.24,1 | <!----> | <!----> | <!----> | <!----> |\n",
       "| 4 | 4741 | 01-01-95, Wolvega | 14:00 | 1  | Gelukkig 1995-prijs | <!----> | <!----> | <!----> | Drafsport - 2100 - Autostart | 1 | ⋯ | J.C. Bot        | 2100 | <!----> | 4 | <!----> | 1.21,2 | <!----> | <!----> | € 794,00 | 17,2 |\n",
       "| 5 | 4741 | 01-01-95, Wolvega | 14:00 | 1  | Gelukkig 1995-prijs | <!----> | <!----> | <!----> | Drafsport - 2100 - Autostart | 2 | ⋯ | R. Kromkamp     | 2100 | <!----> | 6 | <!----> | 1.21,3 | <!----> | <!----> | € 386,00 | 6,1  |\n",
       "| 6 | 4741 | 01-01-95, Wolvega | 14:00 | 1  | Gelukkig 1995-prijs | <!----> | <!----> | <!----> | Drafsport - 2100 - Autostart | 3 | ⋯ | T. Jonkman      | 2100 | <!----> | 7 | <!----> | 1.21,3 | <!----> | <!----> | € 204,00 | 6,2  |\n",
       "\n"
      ],
      "text/plain": [
       "  V1   V2                V3    V4 V5                  V6 V7 V8\n",
       "1 4741 01-01-95, Wolvega 13:30 KW Kwalificatieproef           \n",
       "2 4741 01-01-95, Wolvega 13:30 KW Kwalificatieproef           \n",
       "3 4741 01-01-95, Wolvega 13:30 KW Kwalificatieproef           \n",
       "4 4741 01-01-95, Wolvega 14:00 1  Gelukkig 1995-prijs         \n",
       "5 4741 01-01-95, Wolvega 14:00 1  Gelukkig 1995-prijs         \n",
       "6 4741 01-01-95, Wolvega 14:00 1  Gelukkig 1995-prijs         \n",
       "  V9                           V10 ⋯ V12             V13  V14 V15 V16 V17   \n",
       "1 Drafsport - 2100 - Autostart V   ⋯ F. Gorter       2100 4           1.20,5\n",
       "2 Drafsport - 2100 - Autostart V   ⋯ J.W.M. Engwerda 2100 2           1.23,5\n",
       "3 Drafsport - 2100 - Autostart V   ⋯ F.J. Wildhagen  2100 1           1.24,1\n",
       "4 Drafsport - 2100 - Autostart 1   ⋯ J.C. Bot        2100     4       1.21,2\n",
       "5 Drafsport - 2100 - Autostart 2   ⋯ R. Kromkamp     2100     6       1.21,3\n",
       "6 Drafsport - 2100 - Autostart 3   ⋯ T. Jonkman      2100     7       1.21,3\n",
       "  V18 V19 V20      V21 \n",
       "1                      \n",
       "2                      \n",
       "3                      \n",
       "4         € 794,00 17,2\n",
       "5         € 386,00 6,1 \n",
       "6         € 204,00 6,2 "
      ]
     },
     "metadata": {},
     "output_type": "display_data"
    }
   ],
   "source": [
    "library(tidyverse)\n",
    "\n",
    "csv_paths <- list.files(\"./data_wo_header\", full.names = TRUE)\n",
    "result_csvs <- lapply(\n",
    "  csv_paths, read.csv, header = FALSE, encoding = \"utf-8\", colClasses =c(\"character\")\n",
    ")\n",
    "races_nl <- bind_rows(result_csvs)\n",
    "#csv_paths\n",
    "head(races_nl)\n",
    "\n",
    "#temp\n",
    "#results_csvs <- lapply(\n",
    "#  paste0(\"data_wo_header/csv_paths\")\n",
    "#)"
   ]
  },
  {
   "cell_type": "code",
   "execution_count": 15,
   "id": "9e0e1320",
   "metadata": {},
   "outputs": [
    {
     "data": {
      "text/html": [
       "'data_wo_headerresults_199501to199512.csv'"
      ],
      "text/latex": [
       "'data\\_wo\\_headerresults\\_199501to199512.csv'"
      ],
      "text/markdown": [
       "'data_wo_headerresults_199501to199512.csv'"
      ],
      "text/plain": [
       "[1] \"data_wo_headerresults_199501to199512.csv\""
      ]
     },
     "metadata": {},
     "output_type": "display_data"
    }
   ],
   "source": [
    "paste0(\"data_wo_header/\", temp[1])"
   ]
  },
  {
   "cell_type": "code",
   "execution_count": null,
   "id": "1b6879b6",
   "metadata": {},
   "outputs": [],
   "source": []
  }
 ],
 "metadata": {
  "kernelspec": {
   "display_name": "R",
   "language": "R",
   "name": "ir"
  },
  "language_info": {
   "codemirror_mode": "r",
   "file_extension": ".r",
   "mimetype": "text/x-r-source",
   "name": "R",
   "pygments_lexer": "r",
   "version": "4.2.1"
  }
 },
 "nbformat": 4,
 "nbformat_minor": 5
}
